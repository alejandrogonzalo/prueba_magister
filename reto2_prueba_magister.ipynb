{
 "cells": [
  {
   "cell_type": "code",
   "execution_count": 176,
   "id": "1c02050e",
   "metadata": {},
   "outputs": [],
   "source": [
    "import pandas as pd\n",
    "import os"
   ]
  },
  {
   "cell_type": "code",
   "execution_count": 177,
   "id": "dddeb807",
   "metadata": {},
   "outputs": [],
   "source": [
    "directory = os.getcwd()\n",
    "gender_submission = \"gender_submission.csv\"\n",
    "test = \"test.csv\"\n",
    "train = \"train.csv\"\n",
    "gender_submission_path = os.path.join(directory, gender_submission)\n",
    "test_path = os.path.join(directory, test)\n",
    "train_path = os.path.join(directory, train)\n",
    "gender_submission_df = pd.read_csv(gender_submission_path)\n",
    "test_df = pd.read_csv(test_path)\n",
    "train_df = pd.read_csv(train_path)"
   ]
  },
  {
   "cell_type": "code",
   "execution_count": 178,
   "id": "a72ae69c",
   "metadata": {
    "scrolled": true
   },
   "outputs": [],
   "source": [
    "df_people = pd.concat([train_df, test_df], join=\"outer\")\n",
    "df_people = df_people.set_index(\"PassengerId\")"
   ]
  },
  {
   "cell_type": "code",
   "execution_count": 179,
   "id": "c6a9a1fa",
   "metadata": {},
   "outputs": [],
   "source": [
    "gender_submission_df = gender_submission_df.set_index(\"PassengerId\")\n",
    "df_people.update(gender_submission_df)"
   ]
  },
  {
   "cell_type": "code",
   "execution_count": 195,
   "id": "664da649",
   "metadata": {},
   "outputs": [
    {
     "data": {
      "text/html": [
       "<div>\n",
       "<style scoped>\n",
       "    .dataframe tbody tr th:only-of-type {\n",
       "        vertical-align: middle;\n",
       "    }\n",
       "\n",
       "    .dataframe tbody tr th {\n",
       "        vertical-align: top;\n",
       "    }\n",
       "\n",
       "    .dataframe thead th {\n",
       "        text-align: right;\n",
       "    }\n",
       "</style>\n",
       "<table border=\"1\" class=\"dataframe\">\n",
       "  <thead>\n",
       "    <tr style=\"text-align: right;\">\n",
       "      <th></th>\n",
       "      <th>Survived</th>\n",
       "      <th>Pclass</th>\n",
       "      <th>Name</th>\n",
       "      <th>Sex</th>\n",
       "      <th>Age</th>\n",
       "      <th>SibSp</th>\n",
       "      <th>Parch</th>\n",
       "      <th>Ticket</th>\n",
       "      <th>Fare</th>\n",
       "      <th>Cabin</th>\n",
       "      <th>Embarked</th>\n",
       "    </tr>\n",
       "    <tr>\n",
       "      <th>PassengerId</th>\n",
       "      <th></th>\n",
       "      <th></th>\n",
       "      <th></th>\n",
       "      <th></th>\n",
       "      <th></th>\n",
       "      <th></th>\n",
       "      <th></th>\n",
       "      <th></th>\n",
       "      <th></th>\n",
       "      <th></th>\n",
       "      <th></th>\n",
       "    </tr>\n",
       "  </thead>\n",
       "  <tbody>\n",
       "    <tr>\n",
       "      <th>1</th>\n",
       "      <td>0.0</td>\n",
       "      <td>3</td>\n",
       "      <td>Braund, Mr. Owen Harris</td>\n",
       "      <td>male</td>\n",
       "      <td>22.0</td>\n",
       "      <td>1</td>\n",
       "      <td>0</td>\n",
       "      <td>A/5 21171</td>\n",
       "      <td>7.2500</td>\n",
       "      <td>NaN</td>\n",
       "      <td>S</td>\n",
       "    </tr>\n",
       "    <tr>\n",
       "      <th>2</th>\n",
       "      <td>1.0</td>\n",
       "      <td>1</td>\n",
       "      <td>Cumings, Mrs. John Bradley (Florence Briggs Th...</td>\n",
       "      <td>female</td>\n",
       "      <td>38.0</td>\n",
       "      <td>1</td>\n",
       "      <td>0</td>\n",
       "      <td>PC 17599</td>\n",
       "      <td>71.2833</td>\n",
       "      <td>C85</td>\n",
       "      <td>C</td>\n",
       "    </tr>\n",
       "    <tr>\n",
       "      <th>3</th>\n",
       "      <td>1.0</td>\n",
       "      <td>3</td>\n",
       "      <td>Heikkinen, Miss. Laina</td>\n",
       "      <td>female</td>\n",
       "      <td>26.0</td>\n",
       "      <td>0</td>\n",
       "      <td>0</td>\n",
       "      <td>STON/O2. 3101282</td>\n",
       "      <td>7.9250</td>\n",
       "      <td>NaN</td>\n",
       "      <td>S</td>\n",
       "    </tr>\n",
       "    <tr>\n",
       "      <th>4</th>\n",
       "      <td>1.0</td>\n",
       "      <td>1</td>\n",
       "      <td>Futrelle, Mrs. Jacques Heath (Lily May Peel)</td>\n",
       "      <td>female</td>\n",
       "      <td>35.0</td>\n",
       "      <td>1</td>\n",
       "      <td>0</td>\n",
       "      <td>113803</td>\n",
       "      <td>53.1000</td>\n",
       "      <td>C123</td>\n",
       "      <td>S</td>\n",
       "    </tr>\n",
       "    <tr>\n",
       "      <th>5</th>\n",
       "      <td>0.0</td>\n",
       "      <td>3</td>\n",
       "      <td>Allen, Mr. William Henry</td>\n",
       "      <td>male</td>\n",
       "      <td>35.0</td>\n",
       "      <td>0</td>\n",
       "      <td>0</td>\n",
       "      <td>373450</td>\n",
       "      <td>8.0500</td>\n",
       "      <td>NaN</td>\n",
       "      <td>S</td>\n",
       "    </tr>\n",
       "  </tbody>\n",
       "</table>\n",
       "</div>"
      ],
      "text/plain": [
       "             Survived  Pclass  \\\n",
       "PassengerId                     \n",
       "1                 0.0       3   \n",
       "2                 1.0       1   \n",
       "3                 1.0       3   \n",
       "4                 1.0       1   \n",
       "5                 0.0       3   \n",
       "\n",
       "                                                          Name     Sex   Age  \\\n",
       "PassengerId                                                                    \n",
       "1                                      Braund, Mr. Owen Harris    male  22.0   \n",
       "2            Cumings, Mrs. John Bradley (Florence Briggs Th...  female  38.0   \n",
       "3                                       Heikkinen, Miss. Laina  female  26.0   \n",
       "4                 Futrelle, Mrs. Jacques Heath (Lily May Peel)  female  35.0   \n",
       "5                                     Allen, Mr. William Henry    male  35.0   \n",
       "\n",
       "             SibSp  Parch            Ticket     Fare Cabin Embarked  \n",
       "PassengerId                                                          \n",
       "1                1      0         A/5 21171   7.2500   NaN        S  \n",
       "2                1      0          PC 17599  71.2833   C85        C  \n",
       "3                0      0  STON/O2. 3101282   7.9250   NaN        S  \n",
       "4                1      0            113803  53.1000  C123        S  \n",
       "5                0      0            373450   8.0500   NaN        S  "
      ]
     },
     "execution_count": 195,
     "metadata": {},
     "output_type": "execute_result"
    }
   ],
   "source": [
    "df_people.head()"
   ]
  },
  {
   "cell_type": "markdown",
   "id": "c5a63946",
   "metadata": {},
   "source": [
    "## 1. ¿Cuántas personas iban en el titanic?"
   ]
  },
  {
   "cell_type": "code",
   "execution_count": 190,
   "id": "03084c74",
   "metadata": {},
   "outputs": [
    {
     "data": {
      "text/plain": [
       "1309"
      ]
     },
     "execution_count": 190,
     "metadata": {},
     "output_type": "execute_result"
    }
   ],
   "source": [
    "df_people[\"Name\"].count()"
   ]
  },
  {
   "cell_type": "markdown",
   "id": "c759d54d",
   "metadata": {},
   "source": [
    "### Hay 1309 nombres distintos. Eso significa que había 1309 personas en el titanic"
   ]
  },
  {
   "cell_type": "markdown",
   "id": "453fa1c3",
   "metadata": {},
   "source": [
    "## 2. ¿Cuántos hombres y mujeres sobrevivieron?"
   ]
  },
  {
   "cell_type": "code",
   "execution_count": 280,
   "id": "37a69257",
   "metadata": {},
   "outputs": [
    {
     "data": {
      "text/plain": [
       "Survived  Sex   \n",
       "0.0       female     81\n",
       "          male      734\n",
       "1.0       female    385\n",
       "          male      109\n",
       "Name: Name, dtype: int64"
      ]
     },
     "execution_count": 280,
     "metadata": {},
     "output_type": "execute_result"
    }
   ],
   "source": [
    "df_people.groupby([\"Survived\", \"Sex\"])[\"Name\"].count()"
   ]
  },
  {
   "cell_type": "markdown",
   "id": "3a7d3906",
   "metadata": {},
   "source": [
    "### Suponiendo que 0 significa que no sobrevivieron (False) y 1 que sí (True), hubo 385 mujeres y 109 hombres que sobrevivieron"
   ]
  },
  {
   "cell_type": "markdown",
   "id": "a7e26135",
   "metadata": {},
   "source": [
    "## 3. ¿Cuál fue el top 10 de edad que más sobrevieron y el top 10 de edad que no lo lograron?"
   ]
  },
  {
   "cell_type": "markdown",
   "id": "2f26f268",
   "metadata": {},
   "source": [
    "Dos métodos para obtener esta información. La primera es utilizando las propiedades de pandas y la segunda es mediante agrupaciones."
   ]
  },
  {
   "cell_type": "code",
   "execution_count": 295,
   "id": "cc470aac",
   "metadata": {},
   "outputs": [
    {
     "data": {
      "text/plain": [
       "22.0    21\n",
       "24.0    20\n",
       "18.0    16\n",
       "36.0    16\n",
       "30.0    16\n",
       "27.0    15\n",
       "35.0    14\n",
       "29.0    13\n",
       "45.0    12\n",
       "19.0    12\n",
       "Name: Age, dtype: int64"
      ]
     },
     "execution_count": 295,
     "metadata": {},
     "output_type": "execute_result"
    }
   ],
   "source": [
    "df_people.loc[df_people['Survived'] == 1]['Age'].value_counts().head(10)"
   ]
  },
  {
   "cell_type": "code",
   "execution_count": 266,
   "id": "32a55e8c",
   "metadata": {},
   "outputs": [],
   "source": [
    "df_people_groupby_survived_ages = df_people.groupby([\"Survived\", \"Age\"])[\"Name\"].count().reset_index(name=\"count\")"
   ]
  },
  {
   "cell_type": "code",
   "execution_count": 279,
   "id": "a9b3edb9",
   "metadata": {},
   "outputs": [
    {
     "data": {
      "text/html": [
       "<div>\n",
       "<style scoped>\n",
       "    .dataframe tbody tr th:only-of-type {\n",
       "        vertical-align: middle;\n",
       "    }\n",
       "\n",
       "    .dataframe tbody tr th {\n",
       "        vertical-align: top;\n",
       "    }\n",
       "\n",
       "    .dataframe thead th {\n",
       "        text-align: right;\n",
       "    }\n",
       "</style>\n",
       "<table border=\"1\" class=\"dataframe\">\n",
       "  <thead>\n",
       "    <tr style=\"text-align: right;\">\n",
       "      <th></th>\n",
       "      <th>Survived</th>\n",
       "      <th>Age</th>\n",
       "      <th>count</th>\n",
       "    </tr>\n",
       "  </thead>\n",
       "  <tbody>\n",
       "    <tr>\n",
       "      <th>26</th>\n",
       "      <td>0.0</td>\n",
       "      <td>21.0</td>\n",
       "      <td>33</td>\n",
       "    </tr>\n",
       "    <tr>\n",
       "      <th>33</th>\n",
       "      <td>0.0</td>\n",
       "      <td>25.0</td>\n",
       "      <td>27</td>\n",
       "    </tr>\n",
       "    <tr>\n",
       "      <th>31</th>\n",
       "      <td>0.0</td>\n",
       "      <td>24.0</td>\n",
       "      <td>27</td>\n",
       "    </tr>\n",
       "    <tr>\n",
       "      <th>40</th>\n",
       "      <td>0.0</td>\n",
       "      <td>30.0</td>\n",
       "      <td>24</td>\n",
       "    </tr>\n",
       "    <tr>\n",
       "      <th>37</th>\n",
       "      <td>0.0</td>\n",
       "      <td>28.0</td>\n",
       "      <td>23</td>\n",
       "    </tr>\n",
       "    <tr>\n",
       "      <th>21</th>\n",
       "      <td>0.0</td>\n",
       "      <td>18.0</td>\n",
       "      <td>23</td>\n",
       "    </tr>\n",
       "    <tr>\n",
       "      <th>27</th>\n",
       "      <td>0.0</td>\n",
       "      <td>22.0</td>\n",
       "      <td>22</td>\n",
       "    </tr>\n",
       "    <tr>\n",
       "      <th>34</th>\n",
       "      <td>0.0</td>\n",
       "      <td>26.0</td>\n",
       "      <td>20</td>\n",
       "    </tr>\n",
       "    <tr>\n",
       "      <th>23</th>\n",
       "      <td>0.0</td>\n",
       "      <td>19.0</td>\n",
       "      <td>17</td>\n",
       "    </tr>\n",
       "    <tr>\n",
       "      <th>39</th>\n",
       "      <td>0.0</td>\n",
       "      <td>29.0</td>\n",
       "      <td>17</td>\n",
       "    </tr>\n",
       "  </tbody>\n",
       "</table>\n",
       "</div>"
      ],
      "text/plain": [
       "    Survived   Age  count\n",
       "26       0.0  21.0     33\n",
       "33       0.0  25.0     27\n",
       "31       0.0  24.0     27\n",
       "40       0.0  30.0     24\n",
       "37       0.0  28.0     23\n",
       "21       0.0  18.0     23\n",
       "27       0.0  22.0     22\n",
       "34       0.0  26.0     20\n",
       "23       0.0  19.0     17\n",
       "39       0.0  29.0     17"
      ]
     },
     "execution_count": 279,
     "metadata": {},
     "output_type": "execute_result"
    }
   ],
   "source": [
    "df_not_survivers = df_people_groupby_Survived_Ages.loc[df_people_groupby_Survived_Ages[\"Survived\"]==0.0]\n",
    "df_not_survivers.sort_values(by=\"count\", ascending=False).head(10)"
   ]
  },
  {
   "cell_type": "markdown",
   "id": "0983cddc",
   "metadata": {},
   "source": [
    "### El top 10 de sobrevivientes es: 22, 24, 18, 36, 30,27, 35, 29, 45 y 19"
   ]
  },
  {
   "cell_type": "markdown",
   "id": "32d10808",
   "metadata": {},
   "source": [
    "### El top 10 de no sobrevivientes es: 21, 25, 24, 30, 28, 18, 22, 26, 19 y 29"
   ]
  },
  {
   "cell_type": "markdown",
   "id": "89204088",
   "metadata": {},
   "source": [
    "### Cabe destacar 12 personas cuya edad es menor de 1 con decimales. Se asume que esto es debido a que son personas de apenas unos meses. Por si acaso, se analizan a continuación:"
   ]
  },
  {
   "cell_type": "code",
   "execution_count": 300,
   "id": "1f8715d5",
   "metadata": {},
   "outputs": [],
   "source": [
    "babies = df_people.loc[df_people['Age'] < 1]"
   ]
  },
  {
   "cell_type": "code",
   "execution_count": 303,
   "id": "c2cf82a8",
   "metadata": {},
   "outputs": [
    {
     "data": {
      "text/plain": [
       "1.0    9\n",
       "0.0    3\n",
       "Name: Survived, dtype: int64"
      ]
     },
     "execution_count": 303,
     "metadata": {},
     "output_type": "execute_result"
    }
   ],
   "source": [
    "babies['Survived'].value_counts()"
   ]
  }
 ],
 "metadata": {
  "kernelspec": {
   "display_name": "Python 3",
   "language": "python",
   "name": "python3"
  },
  "language_info": {
   "codemirror_mode": {
    "name": "ipython",
    "version": 3
   },
   "file_extension": ".py",
   "mimetype": "text/x-python",
   "name": "python",
   "nbconvert_exporter": "python",
   "pygments_lexer": "ipython3",
   "version": "3.8.8"
  }
 },
 "nbformat": 4,
 "nbformat_minor": 5
}
