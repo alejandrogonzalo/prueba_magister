{
 "cells": [
  {
   "cell_type": "code",
   "execution_count": 3,
   "id": "1c02050e",
   "metadata": {},
   "outputs": [],
   "source": [
    "import pandas as pd\n",
    "import os\n",
    "import re"
   ]
  },
  {
   "cell_type": "code",
   "execution_count": 4,
   "id": "dddeb807",
   "metadata": {},
   "outputs": [],
   "source": [
    "directory = os.getcwd()\n",
    "gender_submission = \"gender_submission.csv\"\n",
    "test = \"test.csv\"\n",
    "train = \"train.csv\"\n",
    "gender_submission_path = os.path.join(directory, gender_submission)\n",
    "test_path = os.path.join(directory, test)\n",
    "train_path = os.path.join(directory, train)\n",
    "gender_submission_df = pd.read_csv(gender_submission_path)\n",
    "test_df = pd.read_csv(test_path)\n",
    "train_df = pd.read_csv(train_path)"
   ]
  },
  {
   "cell_type": "code",
   "execution_count": 5,
   "id": "a72ae69c",
   "metadata": {
    "scrolled": true
   },
   "outputs": [],
   "source": [
    "df_people = pd.concat([train_df, test_df], join=\"outer\")\n",
    "df_people = df_people.set_index(\"PassengerId\")"
   ]
  },
  {
   "cell_type": "code",
   "execution_count": 6,
   "id": "c6a9a1fa",
   "metadata": {},
   "outputs": [],
   "source": [
    "gender_submission_df = gender_submission_df.set_index(\"PassengerId\")\n",
    "df_people.update(gender_submission_df)"
   ]
  },
  {
   "cell_type": "code",
   "execution_count": 7,
   "id": "664da649",
   "metadata": {},
   "outputs": [
    {
     "data": {
      "text/html": [
       "<div>\n",
       "<style scoped>\n",
       "    .dataframe tbody tr th:only-of-type {\n",
       "        vertical-align: middle;\n",
       "    }\n",
       "\n",
       "    .dataframe tbody tr th {\n",
       "        vertical-align: top;\n",
       "    }\n",
       "\n",
       "    .dataframe thead th {\n",
       "        text-align: right;\n",
       "    }\n",
       "</style>\n",
       "<table border=\"1\" class=\"dataframe\">\n",
       "  <thead>\n",
       "    <tr style=\"text-align: right;\">\n",
       "      <th></th>\n",
       "      <th>Survived</th>\n",
       "      <th>Pclass</th>\n",
       "      <th>Name</th>\n",
       "      <th>Sex</th>\n",
       "      <th>Age</th>\n",
       "      <th>SibSp</th>\n",
       "      <th>Parch</th>\n",
       "      <th>Ticket</th>\n",
       "      <th>Fare</th>\n",
       "      <th>Cabin</th>\n",
       "      <th>Embarked</th>\n",
       "    </tr>\n",
       "    <tr>\n",
       "      <th>PassengerId</th>\n",
       "      <th></th>\n",
       "      <th></th>\n",
       "      <th></th>\n",
       "      <th></th>\n",
       "      <th></th>\n",
       "      <th></th>\n",
       "      <th></th>\n",
       "      <th></th>\n",
       "      <th></th>\n",
       "      <th></th>\n",
       "      <th></th>\n",
       "    </tr>\n",
       "  </thead>\n",
       "  <tbody>\n",
       "    <tr>\n",
       "      <th>1</th>\n",
       "      <td>0.0</td>\n",
       "      <td>3</td>\n",
       "      <td>Braund, Mr. Owen Harris</td>\n",
       "      <td>male</td>\n",
       "      <td>22.0</td>\n",
       "      <td>1</td>\n",
       "      <td>0</td>\n",
       "      <td>A/5 21171</td>\n",
       "      <td>7.2500</td>\n",
       "      <td>NaN</td>\n",
       "      <td>S</td>\n",
       "    </tr>\n",
       "    <tr>\n",
       "      <th>2</th>\n",
       "      <td>1.0</td>\n",
       "      <td>1</td>\n",
       "      <td>Cumings, Mrs. John Bradley (Florence Briggs Th...</td>\n",
       "      <td>female</td>\n",
       "      <td>38.0</td>\n",
       "      <td>1</td>\n",
       "      <td>0</td>\n",
       "      <td>PC 17599</td>\n",
       "      <td>71.2833</td>\n",
       "      <td>C85</td>\n",
       "      <td>C</td>\n",
       "    </tr>\n",
       "    <tr>\n",
       "      <th>3</th>\n",
       "      <td>1.0</td>\n",
       "      <td>3</td>\n",
       "      <td>Heikkinen, Miss. Laina</td>\n",
       "      <td>female</td>\n",
       "      <td>26.0</td>\n",
       "      <td>0</td>\n",
       "      <td>0</td>\n",
       "      <td>STON/O2. 3101282</td>\n",
       "      <td>7.9250</td>\n",
       "      <td>NaN</td>\n",
       "      <td>S</td>\n",
       "    </tr>\n",
       "    <tr>\n",
       "      <th>4</th>\n",
       "      <td>1.0</td>\n",
       "      <td>1</td>\n",
       "      <td>Futrelle, Mrs. Jacques Heath (Lily May Peel)</td>\n",
       "      <td>female</td>\n",
       "      <td>35.0</td>\n",
       "      <td>1</td>\n",
       "      <td>0</td>\n",
       "      <td>113803</td>\n",
       "      <td>53.1000</td>\n",
       "      <td>C123</td>\n",
       "      <td>S</td>\n",
       "    </tr>\n",
       "    <tr>\n",
       "      <th>5</th>\n",
       "      <td>0.0</td>\n",
       "      <td>3</td>\n",
       "      <td>Allen, Mr. William Henry</td>\n",
       "      <td>male</td>\n",
       "      <td>35.0</td>\n",
       "      <td>0</td>\n",
       "      <td>0</td>\n",
       "      <td>373450</td>\n",
       "      <td>8.0500</td>\n",
       "      <td>NaN</td>\n",
       "      <td>S</td>\n",
       "    </tr>\n",
       "  </tbody>\n",
       "</table>\n",
       "</div>"
      ],
      "text/plain": [
       "             Survived  Pclass  \\\n",
       "PassengerId                     \n",
       "1                 0.0       3   \n",
       "2                 1.0       1   \n",
       "3                 1.0       3   \n",
       "4                 1.0       1   \n",
       "5                 0.0       3   \n",
       "\n",
       "                                                          Name     Sex   Age  \\\n",
       "PassengerId                                                                    \n",
       "1                                      Braund, Mr. Owen Harris    male  22.0   \n",
       "2            Cumings, Mrs. John Bradley (Florence Briggs Th...  female  38.0   \n",
       "3                                       Heikkinen, Miss. Laina  female  26.0   \n",
       "4                 Futrelle, Mrs. Jacques Heath (Lily May Peel)  female  35.0   \n",
       "5                                     Allen, Mr. William Henry    male  35.0   \n",
       "\n",
       "             SibSp  Parch            Ticket     Fare Cabin Embarked  \n",
       "PassengerId                                                          \n",
       "1                1      0         A/5 21171   7.2500   NaN        S  \n",
       "2                1      0          PC 17599  71.2833   C85        C  \n",
       "3                0      0  STON/O2. 3101282   7.9250   NaN        S  \n",
       "4                1      0            113803  53.1000  C123        S  \n",
       "5                0      0            373450   8.0500   NaN        S  "
      ]
     },
     "execution_count": 7,
     "metadata": {},
     "output_type": "execute_result"
    }
   ],
   "source": [
    "df_people.head()"
   ]
  },
  {
   "cell_type": "markdown",
   "id": "c5a63946",
   "metadata": {},
   "source": [
    "## 1. ¿Cuántas personas iban en el titanic?"
   ]
  },
  {
   "cell_type": "code",
   "execution_count": 8,
   "id": "03084c74",
   "metadata": {},
   "outputs": [
    {
     "data": {
      "text/plain": [
       "1309"
      ]
     },
     "execution_count": 8,
     "metadata": {},
     "output_type": "execute_result"
    }
   ],
   "source": [
    "df_people[\"Name\"].count()"
   ]
  },
  {
   "cell_type": "markdown",
   "id": "c759d54d",
   "metadata": {},
   "source": [
    "### Hay 1309 nombres distintos. Eso significa que había 1309 personas en el titanic"
   ]
  },
  {
   "cell_type": "markdown",
   "id": "453fa1c3",
   "metadata": {},
   "source": [
    "## 2. ¿Cuántos hombres y mujeres sobrevivieron?"
   ]
  },
  {
   "cell_type": "code",
   "execution_count": 9,
   "id": "37a69257",
   "metadata": {},
   "outputs": [
    {
     "data": {
      "text/plain": [
       "Survived  Sex   \n",
       "0.0       female     81\n",
       "          male      734\n",
       "1.0       female    385\n",
       "          male      109\n",
       "Name: Name, dtype: int64"
      ]
     },
     "execution_count": 9,
     "metadata": {},
     "output_type": "execute_result"
    }
   ],
   "source": [
    "df_people.groupby([\"Survived\", \"Sex\"])[\"Name\"].count()"
   ]
  },
  {
   "cell_type": "markdown",
   "id": "3a7d3906",
   "metadata": {},
   "source": [
    "### Suponiendo que 0 significa que no sobrevivieron (False) y 1 que sí (True), hubo 385 mujeres y 109 hombres que sobrevivieron"
   ]
  },
  {
   "cell_type": "markdown",
   "id": "a7e26135",
   "metadata": {},
   "source": [
    "## 3. ¿Cuál fue el top 10 de edad que más sobrevieron y el top 10 de edad que no lo lograron?"
   ]
  },
  {
   "cell_type": "markdown",
   "id": "2f26f268",
   "metadata": {},
   "source": [
    "Dos métodos para obtener esta información. La primera es utilizando las propiedades de pandas y la segunda es mediante agrupaciones."
   ]
  },
  {
   "cell_type": "code",
   "execution_count": 10,
   "id": "cc470aac",
   "metadata": {},
   "outputs": [
    {
     "data": {
      "text/plain": [
       "22.0    21\n",
       "24.0    20\n",
       "18.0    16\n",
       "36.0    16\n",
       "30.0    16\n",
       "27.0    15\n",
       "35.0    14\n",
       "29.0    13\n",
       "45.0    12\n",
       "19.0    12\n",
       "Name: Age, dtype: int64"
      ]
     },
     "execution_count": 10,
     "metadata": {},
     "output_type": "execute_result"
    }
   ],
   "source": [
    "df_people.loc[df_people['Survived'] == 1]['Age'].value_counts().head(10)"
   ]
  },
  {
   "cell_type": "code",
   "execution_count": 11,
   "id": "32a55e8c",
   "metadata": {},
   "outputs": [],
   "source": [
    "df_people_groupby_survived_ages = df_people.groupby([\"Survived\", \"Age\"])[\"Name\"].count().reset_index(name=\"count\")"
   ]
  },
  {
   "cell_type": "code",
   "execution_count": 12,
   "id": "a9b3edb9",
   "metadata": {},
   "outputs": [
    {
     "data": {
      "text/html": [
       "<div>\n",
       "<style scoped>\n",
       "    .dataframe tbody tr th:only-of-type {\n",
       "        vertical-align: middle;\n",
       "    }\n",
       "\n",
       "    .dataframe tbody tr th {\n",
       "        vertical-align: top;\n",
       "    }\n",
       "\n",
       "    .dataframe thead th {\n",
       "        text-align: right;\n",
       "    }\n",
       "</style>\n",
       "<table border=\"1\" class=\"dataframe\">\n",
       "  <thead>\n",
       "    <tr style=\"text-align: right;\">\n",
       "      <th></th>\n",
       "      <th>Survived</th>\n",
       "      <th>Age</th>\n",
       "      <th>count</th>\n",
       "    </tr>\n",
       "  </thead>\n",
       "  <tbody>\n",
       "    <tr>\n",
       "      <th>26</th>\n",
       "      <td>0.0</td>\n",
       "      <td>21.0</td>\n",
       "      <td>33</td>\n",
       "    </tr>\n",
       "    <tr>\n",
       "      <th>33</th>\n",
       "      <td>0.0</td>\n",
       "      <td>25.0</td>\n",
       "      <td>27</td>\n",
       "    </tr>\n",
       "    <tr>\n",
       "      <th>31</th>\n",
       "      <td>0.0</td>\n",
       "      <td>24.0</td>\n",
       "      <td>27</td>\n",
       "    </tr>\n",
       "    <tr>\n",
       "      <th>40</th>\n",
       "      <td>0.0</td>\n",
       "      <td>30.0</td>\n",
       "      <td>24</td>\n",
       "    </tr>\n",
       "    <tr>\n",
       "      <th>37</th>\n",
       "      <td>0.0</td>\n",
       "      <td>28.0</td>\n",
       "      <td>23</td>\n",
       "    </tr>\n",
       "    <tr>\n",
       "      <th>21</th>\n",
       "      <td>0.0</td>\n",
       "      <td>18.0</td>\n",
       "      <td>23</td>\n",
       "    </tr>\n",
       "    <tr>\n",
       "      <th>27</th>\n",
       "      <td>0.0</td>\n",
       "      <td>22.0</td>\n",
       "      <td>22</td>\n",
       "    </tr>\n",
       "    <tr>\n",
       "      <th>34</th>\n",
       "      <td>0.0</td>\n",
       "      <td>26.0</td>\n",
       "      <td>20</td>\n",
       "    </tr>\n",
       "    <tr>\n",
       "      <th>23</th>\n",
       "      <td>0.0</td>\n",
       "      <td>19.0</td>\n",
       "      <td>17</td>\n",
       "    </tr>\n",
       "    <tr>\n",
       "      <th>39</th>\n",
       "      <td>0.0</td>\n",
       "      <td>29.0</td>\n",
       "      <td>17</td>\n",
       "    </tr>\n",
       "  </tbody>\n",
       "</table>\n",
       "</div>"
      ],
      "text/plain": [
       "    Survived   Age  count\n",
       "26       0.0  21.0     33\n",
       "33       0.0  25.0     27\n",
       "31       0.0  24.0     27\n",
       "40       0.0  30.0     24\n",
       "37       0.0  28.0     23\n",
       "21       0.0  18.0     23\n",
       "27       0.0  22.0     22\n",
       "34       0.0  26.0     20\n",
       "23       0.0  19.0     17\n",
       "39       0.0  29.0     17"
      ]
     },
     "execution_count": 12,
     "metadata": {},
     "output_type": "execute_result"
    }
   ],
   "source": [
    "df_not_survivers = df_people_groupby_survived_ages.loc[df_people_groupby_survived_ages[\"Survived\"]==0.0]\n",
    "df_not_survivers.sort_values(by=\"count\", ascending=False).head(10)"
   ]
  },
  {
   "cell_type": "markdown",
   "id": "0983cddc",
   "metadata": {},
   "source": [
    "### El top 10 de sobrevivientes es: 22, 24, 18, 36, 30,27, 35, 29, 45 y 19"
   ]
  },
  {
   "cell_type": "markdown",
   "id": "32d10808",
   "metadata": {},
   "source": [
    "### El top 10 de no sobrevivientes es: 21, 25, 24, 30, 28, 18, 22, 26, 19 y 29"
   ]
  },
  {
   "cell_type": "markdown",
   "id": "89204088",
   "metadata": {},
   "source": [
    "### Cabe destacar 12 personas cuya edad es menor de 1 con decimales. Se asume que esto es debido a que son personas de apenas unos meses. Por si acaso, se analizan a continuación:"
   ]
  },
  {
   "cell_type": "code",
   "execution_count": 13,
   "id": "1f8715d5",
   "metadata": {},
   "outputs": [],
   "source": [
    "babies = df_people.loc[df_people['Age'] < 1]"
   ]
  },
  {
   "cell_type": "code",
   "execution_count": 14,
   "id": "c2cf82a8",
   "metadata": {},
   "outputs": [
    {
     "data": {
      "text/plain": [
       "1.0    9\n",
       "0.0    3\n",
       "Name: Survived, dtype: int64"
      ]
     },
     "execution_count": 14,
     "metadata": {},
     "output_type": "execute_result"
    }
   ],
   "source": [
    "babies['Survived'].value_counts()"
   ]
  },
  {
   "cell_type": "markdown",
   "id": "c6b0d216",
   "metadata": {},
   "source": [
    "# 4. ¿Cuántos cargos o títulos iban en el barco? Ejemplo: Capitanes, Mrs. Miss, etc. (pista: usa expresiones regulares)"
   ]
  },
  {
   "cell_type": "markdown",
   "id": "2ae0ea33-1721-4668-b2af-7ed7111e23d5",
   "metadata": {},
   "source": [
    "Este ejercicio se podría hacer también de dos modos: por expresiones regulares (como indica el enunciado) y mediante splits a partir de la coma y hasta el punto. Sí es cierto que la segunda opción falla en el único caso de \"the Countess\", ya que también toma el artículo como título. Por esa razón, se opta únicamente por una expresión regular."
   ]
  },
  {
   "cell_type": "code",
   "execution_count": 15,
   "id": "df22ef31",
   "metadata": {},
   "outputs": [
    {
     "data": {
      "text/plain": [
       "['Countess.']"
      ]
     },
     "execution_count": 15,
     "metadata": {},
     "output_type": "execute_result"
    }
   ],
   "source": [
    "re.findall(r'[A-Z]\\w*?\\.', 'Failed at Rothes, the Countess. of (Lucy Noel Martha Dyer-Edwards)')"
   ]
  },
  {
   "cell_type": "code",
   "execution_count": 16,
   "id": "05a18fb1",
   "metadata": {},
   "outputs": [],
   "source": [
    "def extract_title(name):\n",
    "    try:\n",
    "        title = re.findall(r'[A-Z]\\w*?\\.', name)[0]\n",
    "    except Exception:\n",
    "        print(f'Failed at {name}')\n",
    "        title = None\n",
    "    return title"
   ]
  },
  {
   "cell_type": "code",
   "execution_count": 17,
   "id": "bb29c315",
   "metadata": {},
   "outputs": [],
   "source": [
    "df_people[\"Title\"] = df_people[\"Name\"].apply(extract_title)"
   ]
  },
  {
   "cell_type": "code",
   "execution_count": 18,
   "id": "0db108ad",
   "metadata": {},
   "outputs": [
    {
     "data": {
      "text/plain": [
       "Mr.          757\n",
       "Miss.        260\n",
       "Mrs.         197\n",
       "Master.       61\n",
       "Rev.           8\n",
       "Dr.            8\n",
       "Col.           4\n",
       "Ms.            2\n",
       "Major.         2\n",
       "Mlle.          2\n",
       "Mme.           1\n",
       "Dona.          1\n",
       "Lady.          1\n",
       "Countess.      1\n",
       "Sir.           1\n",
       "Capt.          1\n",
       "Jonkheer.      1\n",
       "Don.           1\n",
       "Name: Title, dtype: int64"
      ]
     },
     "execution_count": 18,
     "metadata": {},
     "output_type": "execute_result"
    }
   ],
   "source": [
    "df_people[\"Title\"].value_counts()"
   ]
  },
  {
   "cell_type": "markdown",
   "id": "747088a3-05d5-4230-b6b4-e7c6b1a190c1",
   "metadata": {},
   "source": [
    "### En el barco iban: 747 Mr., 260 Miss., 197 Mrs., 61 Master., 8 Rev., 8 Dr., 4 Col., 2 Ms., 2 Major., 2 Mlle., 1 Sir., 1 Jonhkeer., 1 Lady., 1 Dona., 1 Don., 1 Countess., 1 Mme. y 1 Capt."
   ]
  },
  {
   "cell_type": "markdown",
   "id": "5c3ab1c8-2132-47ed-b0c5-a95f71d18d40",
   "metadata": {},
   "source": [
    " # 5. ¿Cuánto es la sumatorio del valor de los tickets en EUR? (pista: los tickets se vendieron en libras esterlinas)"
   ]
  },
  {
   "cell_type": "code",
   "execution_count": 20,
   "id": "5f987fe8-1cd6-412a-bbf4-89101a8d9e2c",
   "metadata": {},
   "outputs": [
    {
     "data": {
      "text/plain": [
       "dtype('float64')"
      ]
     },
     "execution_count": 20,
     "metadata": {},
     "output_type": "execute_result"
    }
   ],
   "source": [
    "df_people[\"Fare\"].dtype"
   ]
  },
  {
   "cell_type": "code",
   "execution_count": 29,
   "id": "e3fd4924-9554-472c-9675-8d69682cee26",
   "metadata": {},
   "outputs": [
    {
     "name": "stdout",
     "output_type": "stream",
     "text": [
      "43550.4869\n"
     ]
    }
   ],
   "source": [
    "sum_tickets_GBP = df_people[\"Fare\"].sum()\n",
    "print(sum_tickets_GBP)"
   ]
  },
  {
   "cell_type": "markdown",
   "id": "91c25689-1adf-4941-ab02-47ba87011139",
   "metadata": {},
   "source": [
    "Para hacer el cambio de divisas, se ha utilizado el cambio de 1 libra esterlina 1,1703739 euros de acuerdo con https://www.xe.com/es/currencyconverter/convert/?Amount=1&From=GBP&To=EUR a 27/09/2021"
   ]
  },
  {
   "cell_type": "code",
   "execution_count": 26,
   "id": "23ac68bd-4841-4d96-9bf5-f5b0a7b80982",
   "metadata": {},
   "outputs": [],
   "source": [
    "sum_tickets_EUR = sum_tickets_GBP * 1.1703739"
   ]
  },
  {
   "cell_type": "code",
   "execution_count": 27,
   "id": "3b453e92-8bd9-4b2a-bf47-11a6a9a2e9e5",
   "metadata": {},
   "outputs": [
    {
     "name": "stdout",
     "output_type": "stream",
     "text": [
      "50970.35320005191\n"
     ]
    }
   ],
   "source": [
    "print(sum_tickets_EUR)"
   ]
  },
  {
   "cell_type": "markdown",
   "id": "1245b7a5-1c4e-4afe-8fdc-aa5b9dc95208",
   "metadata": {},
   "source": [
    "### El sumatorio del valor de los tickets en EUR es de 50970,35."
   ]
  }
 ],
 "metadata": {
  "kernelspec": {
   "display_name": "Python 3",
   "language": "python",
   "name": "python3"
  },
  "language_info": {
   "codemirror_mode": {
    "name": "ipython",
    "version": 3
   },
   "file_extension": ".py",
   "mimetype": "text/x-python",
   "name": "python",
   "nbconvert_exporter": "python",
   "pygments_lexer": "ipython3",
   "version": "3.8.8"
  }
 },
 "nbformat": 4,
 "nbformat_minor": 5
}
